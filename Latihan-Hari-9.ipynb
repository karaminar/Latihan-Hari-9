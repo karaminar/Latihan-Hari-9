{
 "cells": [
  {
   "cell_type": "code",
   "execution_count": 16,
   "metadata": {},
   "outputs": [],
   "source": [
    "import math #build-in library\n",
    "import statistics #build-in library\n",
    "\n",
    "import numpy as np # manual library\n",
    "import pandas as pd # manual library\n",
    "import scipy.stats # manual library"
   ]
  },
  {
   "cell_type": "markdown",
   "metadata": {},
   "source": [
    "# Measure of Central Tendency\n",
    "\n",
    "## Mean/Average\n",
    "\n",
    "### Mean/Average (Arithmatic)"
   ]
  },
  {
   "cell_type": "code",
   "execution_count": 2,
   "metadata": {},
   "outputs": [
    {
     "name": "stdout",
     "output_type": "stream",
     "text": [
      "[8, 1, 2.5, 4, 28]\n",
      "[8.0, 1, 2.5, nan, 4, 28.0]\n"
     ]
    }
   ],
   "source": [
    "x = [8, 1, 2.5, 4, 28]\n",
    "x_with_nan = [8.0, 1, 2.5, math.nan, 4, 28.0]\n",
    "\n",
    "print(x)\n",
    "print(x_with_nan)"
   ]
  },
  {
   "cell_type": "code",
   "execution_count": 3,
   "metadata": {},
   "outputs": [
    {
     "name": "stdout",
     "output_type": "stream",
     "text": [
      "[ 8.   1.   2.5  4.  28. ]\n",
      "[ 8.   1.   2.5  nan  4.  28. ]\n",
      "0     8.0\n",
      "1     1.0\n",
      "2     2.5\n",
      "3     4.0\n",
      "4    28.0\n",
      "dtype: float64\n",
      "0     8.0\n",
      "1     1.0\n",
      "2     2.5\n",
      "3     NaN\n",
      "4     4.0\n",
      "5    28.0\n",
      "dtype: float64\n"
     ]
    }
   ],
   "source": [
    "np_x, np_x_with_nan = np.array(x), np.array(x_with_nan)\n",
    "series_x, series_x_with_nan = pd.Series(x), pd.Series(x_with_nan)\n",
    "\n",
    "print(np_x)\n",
    "print(np_x_with_nan)\n",
    "\n",
    "print(series_x)\n",
    "print(series_x_with_nan)"
   ]
  },
  {
   "cell_type": "code",
   "execution_count": 9,
   "metadata": {},
   "outputs": [
    {
     "name": "stdout",
     "output_type": "stream",
     "text": [
      "mean: 8.7\n",
      "mean (with stats): 8.7\n",
      "mean (with stats and nan): nan\n",
      "mean (with np): 8.7\n",
      "mean (with np and nan): nan\n",
      "mean (with np.nan and nan): 8.7\n"
     ]
    }
   ],
   "source": [
    "native_mean = sum(x)/len(x)\n",
    "stats_mean = statistics.mean(x)\n",
    "stats_mean_with_nan = statistics.mean(x_with_nan)\n",
    "np_mean = np.mean(np_x) #bisa pake data yg x juga\n",
    "np_mean_with_nan = np.mean(np_x_with_nan) #bisa pake data yg x_with_nan juga\n",
    "np_nanmean_with_nan = np.nanmean(np_x_with_nan)\n",
    "\n",
    "\n",
    "print(\"mean:\", native_mean)\n",
    "print(\"mean (with stats):\", stats_mean)\n",
    "print(\"mean (with stats and nan):\", stats_mean_with_nan)\n",
    "print(\"mean (with np):\", np_mean)\n",
    "print(\"mean (with np and nan):\", np_mean_with_nan)\n",
    "print(\"mean (with np.nan and nan):\", np_nanmean_with_nan)"
   ]
  },
  {
   "cell_type": "markdown",
   "metadata": {},
   "source": [
    "### Weighted mean\n",
    "\n",
    "masing2 data punya bobot. Penjumlahan dari perkalian setiap bobot dan datanya, kemudian dibagi dengan jumlah bobotnya. seperti frekuensi."
   ]
  },
  {
   "cell_type": "code",
   "execution_count": 11,
   "metadata": {},
   "outputs": [
    {
     "data": {
      "text/plain": [
       "[0, 1, 2, 3, 4, 5, 6, 7, 8, 9]"
      ]
     },
     "execution_count": 11,
     "metadata": {},
     "output_type": "execute_result"
    }
   ],
   "source": [
    "# list comprehension\n",
    "\n",
    "[i for i in range(10)]"
   ]
  },
  {
   "cell_type": "code",
   "execution_count": 13,
   "metadata": {},
   "outputs": [
    {
     "name": "stdout",
     "output_type": "stream",
     "text": [
      "weight: [0.1, 0.2, 0.3, 0.25, 0.15]\n",
      "x: [8, 1, 2.5, 4, 28]\n",
      "weighted mean: 6.95\n",
      "weighted mean with np: 6.95\n"
     ]
    }
   ],
   "source": [
    "w = [.1, .2, .3, .25, .15]\n",
    "print(\"weight:\", w)\n",
    "print(\"x:\", x)\n",
    "\n",
    "native_weighted_mean = sum([w[i]*x[i] for i in range(len(x))]) / sum(w)\n",
    "np_weighted_mean = np.average(np_x, weights=w)\n",
    "\n",
    "print(\"weighted mean:\", native_weighted_mean)\n",
    "print(\"weighted mean with np:\", np_weighted_mean)"
   ]
  },
  {
   "cell_type": "markdown",
   "metadata": {},
   "source": [
    "### Harmonic mean\n",
    "\n",
    "lebih fair drpd arithmatic mean (yang sensitif thd outlier)."
   ]
  },
  {
   "cell_type": "code",
   "execution_count": 18,
   "metadata": {},
   "outputs": [
    {
     "name": "stdout",
     "output_type": "stream",
     "text": [
      "x: [8, 1, 2.5, 4, 28]\n",
      "harmonic mean: 2.7613412228796843\n",
      "harmonic mean with stats: 2.7613412228796843\n",
      "harmonic mean with scipy: 2.7613412228796843\n"
     ]
    }
   ],
   "source": [
    "print(\"x:\", x)\n",
    "\n",
    "native_harmonic_mean = len(x) / sum([1/item for item in x])\n",
    "stats_harmonic_mean = statistics.harmonic_mean(x)\n",
    "scipy_harmonic_mean = scipy.stats.hmean(np_x)\n",
    "\n",
    "print(\"harmonic mean:\", native_harmonic_mean)\n",
    "print(\"harmonic mean with stats:\", stats_harmonic_mean)\n",
    "print(\"harmonic mean with scipy:\", scipy_harmonic_mean)"
   ]
  },
  {
   "cell_type": "markdown",
   "metadata": {},
   "source": [
    "### Geometric mean\n",
    "\n",
    "ketika ingin membandingkan hal hal dengan properti yang sangat berbeda."
   ]
  },
  {
   "cell_type": "code",
   "execution_count": 22,
   "metadata": {},
   "outputs": [
    {
     "name": "stdout",
     "output_type": "stream",
     "text": [
      "x: [8, 1, 2.5, 4, 28]\n",
      "geometric mean: 4.677885674856041\n",
      "geometric mean with scipy: 4.67788567485604\n"
     ]
    }
   ],
   "source": [
    "print(\"x:\", x)\n",
    "native_gmean = 1\n",
    "for item in x:\n",
    "    native_gmean *= item\n",
    "    \n",
    "native_gmean = native_gmean**(1/len(x))\n",
    "scipy_gmean = scipy.stats.gmean(np_x)\n",
    "\n",
    "print(\"geometric mean:\", native_gmean)\n",
    "print(\"geometric mean with scipy:\", scipy_gmean)"
   ]
  },
  {
   "cell_type": "markdown",
   "metadata": {},
   "source": [
    "## Median\n",
    "-> tidak sensitif terhadap outlier."
   ]
  },
  {
   "cell_type": "code",
   "execution_count": 32,
   "metadata": {},
   "outputs": [
    {
     "name": "stdout",
     "output_type": "stream",
     "text": [
      "x: [1, 2.5, 4, 8, 28]\n",
      "sorted x: [1, 2.5, 4, 8, 28]\n",
      "median: 4\n",
      "median with stats: 4\n",
      "median low with stats: 4\n",
      "median high with stats: 4\n",
      "median with np: 4.0\n"
     ]
    }
   ],
   "source": [
    "print(\"x:\", x)\n",
    "print(\"sorted x:\", sorted(x))\n",
    "\n",
    "n = len(x)\n",
    "if n%2:\n",
    "    # odd n\n",
    "    native_median = sorted(x)[round(.5 * (n-1))]\n",
    "else:\n",
    "    # even n\n",
    "    sorted_x, med_index = sorted(x), round(.5 * n)\n",
    "    native_median = (sorted_x[med_index - 1] + sorted_x[med_index]) / 2\n",
    "    \n",
    "stats_median = statistics.median(x)\n",
    "stats_median_low = statistics.median_low(x)\n",
    "stats_median_high = statistics.median_high(x)\n",
    "np_median = np.median(np_x)\n",
    "    \n",
    "print('median:', native_median) \n",
    "print('median with stats:', stats_median) \n",
    "print('median low with stats:', stats_median_low) \n",
    "print('median high with stats:', stats_median_high) \n",
    "print('median with np:', np_median) "
   ]
  },
  {
   "cell_type": "code",
   "execution_count": 33,
   "metadata": {},
   "outputs": [
    {
     "name": "stdout",
     "output_type": "stream",
     "text": [
      "x: [1, 2.5, 4, 8, 28]\n",
      "sorted x: [1, 2.5, 4, 8, 28]\n",
      "median: 4\n",
      "median with stats: 3.25\n",
      "median low with stats: 2.5\n",
      "median high with stats: 4\n",
      "median with np: 3.25\n"
     ]
    }
   ],
   "source": [
    "print(\"x:\", x)\n",
    "print(\"sorted x:\", sorted(x))\n",
    "\n",
    "new_x = x[:-1].copy()\n",
    "m = len(new_x)\n",
    "if n%2:\n",
    "    # odd m\n",
    "    native_median_new_x = sorted(new_x)[round(.5 * (m-1))]\n",
    "else:\n",
    "    # even m\n",
    "    sorted_new_x, med_new_index = sorted(new_x), round(.5 * m)\n",
    "    native_median_new_x = (sorted_new_x[med_new_index - 1] + sorted_new_x[med_new_index]) / 2\n",
    "    \n",
    "stats_median_new_x = statistics.median(new_x)\n",
    "stats_median_low_new_x = statistics.median_low(new_x)\n",
    "stats_median_high_new_x = statistics.median_high(new_x)\n",
    "np_median_new_x = np.median(new_x)\n",
    "    \n",
    "print('median:', native_median_new_x) \n",
    "print('median with stats:', stats_median_new_x) \n",
    "print('median low with stats:', stats_median_low_new_x) \n",
    "print('median high with stats:', stats_median_high_new_x) \n",
    "print('median with np:', np_median_new_x) "
   ]
  },
  {
   "cell_type": "markdown",
   "metadata": {},
   "source": [
    "## Mode"
   ]
  },
  {
   "cell_type": "code",
   "execution_count": 38,
   "metadata": {},
   "outputs": [
    {
     "data": {
      "text/plain": [
       "(3, 15)"
      ]
     },
     "execution_count": 38,
     "metadata": {},
     "output_type": "execute_result"
    }
   ],
   "source": [
    "mode_1 = [(v.count(item), item) for item in set(v)]\n",
    "max(mode_1)"
   ]
  },
  {
   "cell_type": "code",
   "execution_count": 43,
   "metadata": {},
   "outputs": [
    {
     "name": "stdout",
     "output_type": "stream",
     "text": [
      "native_mode: 2\n",
      "stats_mode: 2\n",
      "scipy_mode: 2 (2)\n"
     ]
    }
   ],
   "source": [
    "u = [2, 3, 2, 8, 12]\n",
    "v = [12, 15, 12, 15, 21, 15, 12]\n",
    "\n",
    "native_mode = max([(u.count(item), item) for item in set(u)])[1]\n",
    "stats_mode = statistics.mode(u)\n",
    "scipy_mode = scipy.stats.mode(u)\n",
    "\n",
    "print('native_mode:', native_mode)\n",
    "print('stats_mode:', stats_mode)\n",
    "print('scipy_mode:', scipy_mode.mode[0], f\"({scipy_mode.count[0]})\")"
   ]
  },
  {
   "cell_type": "markdown",
   "metadata": {},
   "source": [
    "# Measures of Spread/Variability\n",
    "\n",
    "### Variance"
   ]
  },
  {
   "cell_type": "code",
   "execution_count": 48,
   "metadata": {},
   "outputs": [
    {
     "name": "stdout",
     "output_type": "stream",
     "text": [
      "x: [1, 2.5, 4, 8, 28]\n",
      "mean: 8.7\n",
      "variance: 123.19999999999999\n",
      "variance with stats: 123.2\n",
      "variance with np: 123.19999999999999\n",
      "variance with pandas series: 123.19999999999999\n"
     ]
    }
   ],
   "source": [
    "print(\"x:\", x)\n",
    "print(\"mean:\", native_mean)\n",
    "\n",
    "native_var = sum([(item - native_mean)**2 for item in x]) / (len(x)-1)\n",
    "stats_var = statistics.variance(x)\n",
    "np_var = np.var(np_x, ddof=1) # ddof degree of freedom\n",
    "\n",
    "print('variance:', native_var)\n",
    "print('variance with stats:', stats_var)\n",
    "print('variance with np:', np_var)\n",
    "print('variance with pandas series:', series_x.var()) \n",
    "        # kalo np langsung aja dan datanya harus series"
   ]
  },
  {
   "cell_type": "markdown",
   "metadata": {},
   "source": [
    "### Standard Deviation"
   ]
  },
  {
   "cell_type": "code",
   "execution_count": 49,
   "metadata": {},
   "outputs": [
    {
     "name": "stdout",
     "output_type": "stream",
     "text": [
      "standard dev: 11.099549540409285\n",
      "standard dev with stats: 11.099549540409287\n",
      "standard dev with np: 9.927738916792684\n",
      "standard dev with pd series: 11.099549540409285\n"
     ]
    }
   ],
   "source": [
    "native_std = native_var ** .5\n",
    "stats_std = statistics.stdev(x)\n",
    "np_std = np.std(np_x)\n",
    "\n",
    "print(\"standard dev:\", native_std)\n",
    "print(\"standard dev with stats:\", stats_std)\n",
    "print(\"standard dev with np:\", np_std)\n",
    "print(\"standard dev with pd series:\", series_x.std())"
   ]
  },
  {
   "cell_type": "markdown",
   "metadata": {},
   "source": [
    "### Skewness"
   ]
  },
  {
   "cell_type": "code",
   "execution_count": 51,
   "metadata": {},
   "outputs": [
    {
     "name": "stdout",
     "output_type": "stream",
     "text": [
      "x: [1, 2.5, 4, 8, 28]\n",
      "skewness with scipy: 1.9470432273905927\n",
      "skewness with scipy: 1.9470432273905924\n"
     ]
    }
   ],
   "source": [
    "print(\"x:\", x)\n",
    "scipy_skew = scipy.stats.skew(np_x, bias=False)\n",
    "\n",
    "print(\"skewness with scipy:\", scipy_skew)\n",
    "print(\"skewness with scipy:\", series_x.skew())"
   ]
  },
  {
   "cell_type": "markdown",
   "metadata": {},
   "source": [
    "### Quantiles, Percentiles, Quartiles"
   ]
  },
  {
   "cell_type": "code",
   "execution_count": 58,
   "metadata": {},
   "outputs": [
    {
     "name": "stdout",
     "output_type": "stream",
     "text": [
      "x: [-5, -1.1, -1, 2, 8, 12.8, 21, 25.8, 41]\n",
      "[-1.05, 8.0, 23.4]\n",
      "[8.0]\n",
      "[-1.  8. 21.]\n",
      "[-1.  8. 21.]\n"
     ]
    }
   ],
   "source": [
    "x_1 = [-5, -1.1, -1, 2, 8, 12.8, 21, 25.8, 41]\n",
    "print(\"x:\", x_1)\n",
    "\n",
    "print(statistics.quantiles(x_1, n=4))\n",
    "print(statistics.quantiles(x_1, n=2))\n",
    "# data eksklusif sample, inklusif populasi\n",
    "\n",
    "print(np.percentile(x_1, [25, 50, 75]))\n",
    "#quartiles (karena dikerjain pake percentile, jadi 25, 50, 75)\n",
    "print(np.quantile(x_1, [.25, .5, .75]))"
   ]
  },
  {
   "cell_type": "markdown",
   "metadata": {},
   "source": [
    "### Range"
   ]
  },
  {
   "cell_type": "code",
   "execution_count": 59,
   "metadata": {},
   "outputs": [
    {
     "name": "stdout",
     "output_type": "stream",
     "text": [
      "max: 41.0\n",
      "min: -5.0\n",
      "46.0\n",
      "46.0\n"
     ]
    }
   ],
   "source": [
    "np_x1 = np.array(x_1)\n",
    "\n",
    "print(\"max:\", np_x1.max())\n",
    "print(\"min:\", np_x1.min())\n",
    "print(np.ptp(x_1))\n",
    "print(np_x1.max() - np_x1.min())"
   ]
  },
  {
   "cell_type": "code",
   "execution_count": null,
   "metadata": {},
   "outputs": [],
   "source": []
  }
 ],
 "metadata": {
  "kernelspec": {
   "display_name": "Python 3",
   "language": "python",
   "name": "python3"
  },
  "language_info": {
   "codemirror_mode": {
    "name": "ipython",
    "version": 3
   },
   "file_extension": ".py",
   "mimetype": "text/x-python",
   "name": "python",
   "nbconvert_exporter": "python",
   "pygments_lexer": "ipython3",
   "version": "3.8.5"
  }
 },
 "nbformat": 4,
 "nbformat_minor": 4
}
